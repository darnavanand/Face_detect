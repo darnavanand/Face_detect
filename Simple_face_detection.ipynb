{
 "cells": [
  {
   "cell_type": "code",
   "execution_count": 1,
   "id": "88492d89",
   "metadata": {},
   "outputs": [],
   "source": [
    "import cv2"
   ]
  },
  {
   "cell_type": "code",
   "execution_count": 2,
   "id": "7576d586",
   "metadata": {},
   "outputs": [],
   "source": [
    "f_cas = cv2.CascadeClassifier('haarcascade_frontalface_default.xml')"
   ]
  },
  {
   "cell_type": "code",
   "execution_count": 3,
   "id": "35ca812c",
   "metadata": {},
   "outputs": [],
   "source": [
    "color_img = cv2.imread('images.jpeg')"
   ]
  },
  {
   "cell_type": "code",
   "execution_count": 7,
   "id": "f847fb57",
   "metadata": {},
   "outputs": [],
   "source": [
    "gray_img = cv2.cvtColor(color_img, cv2.COLOR_BGR2GRAY)"
   ]
  },
  {
   "cell_type": "code",
   "execution_count": 8,
   "id": "95e79f22",
   "metadata": {},
   "outputs": [],
   "source": [
    "face = f_cas.detectMultiScale(gray_img,1.1,5)"
   ]
  },
  {
   "cell_type": "code",
   "execution_count": 9,
   "id": "76b8de63",
   "metadata": {},
   "outputs": [],
   "source": [
    "for (x,y,w,h) in face:\n",
    "    cv2.rectangle(color_img, (x,y), (x+w, y+h), (0,0,255), 4)"
   ]
  },
  {
   "cell_type": "code",
   "execution_count": 10,
   "id": "43f9db53",
   "metadata": {},
   "outputs": [],
   "source": [
    "cv2.imshow('Image', color_img)"
   ]
  },
  {
   "cell_type": "code",
   "execution_count": null,
   "id": "3c80e1e6",
   "metadata": {},
   "outputs": [],
   "source": [
    "cv2.waitKey()"
   ]
  },
  {
   "cell_type": "code",
   "execution_count": null,
   "id": "ce2deb23",
   "metadata": {},
   "outputs": [],
   "source": [
    "cv2.destroyAllWindows()"
   ]
  },
  {
   "cell_type": "code",
   "execution_count": null,
   "id": "e2237ca8",
   "metadata": {},
   "outputs": [],
   "source": []
  }
 ],
 "metadata": {
  "kernelspec": {
   "display_name": "Python 3",
   "language": "python",
   "name": "python3"
  },
  "language_info": {
   "codemirror_mode": {
    "name": "ipython",
    "version": 3
   },
   "file_extension": ".py",
   "mimetype": "text/x-python",
   "name": "python",
   "nbconvert_exporter": "python",
   "pygments_lexer": "ipython3",
   "version": "3.6.8"
  }
 },
 "nbformat": 4,
 "nbformat_minor": 5
}
